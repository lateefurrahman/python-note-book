{
 "cells": [
  {
   "cell_type": "code",
   "execution_count": 1,
   "metadata": {},
   "outputs": [
    {
     "name": "stdout",
     "output_type": "stream",
     "text": [
      "hello Lateef\n"
     ]
    }
   ],
   "source": [
    "print(\"hello Lateef\")\n",
    "      "
   ]
  },
  {
   "cell_type": "code",
   "execution_count": 2,
   "metadata": {},
   "outputs": [],
   "source": [
    "a = \"AZHAR \"\n",
    "b = \"UR \" \n",
    "c = \"RAHMAN \" "
   ]
  },
  {
   "cell_type": "code",
   "execution_count": 3,
   "metadata": {},
   "outputs": [
    {
     "name": "stdout",
     "output_type": "stream",
     "text": [
      "AZHAR UR RAHMAN \n"
     ]
    }
   ],
   "source": [
    "name = a + b + c\n",
    "print(name)"
   ]
  },
  {
   "cell_type": "code",
   "execution_count": 4,
   "metadata": {},
   "outputs": [
    {
     "name": "stdout",
     "output_type": "stream",
     "text": [
      "Enter your name \n",
      "Enter your Class\n",
      "\n",
      "\n"
     ]
    }
   ],
   "source": [
    "a = input(\"Enter your name \") \n",
    "b = input(\"Enter your Class\")\n",
    "print(a)\n",
    "print(b)"
   ]
  },
  {
   "cell_type": "code",
   "execution_count": 5,
   "metadata": {},
   "outputs": [],
   "source": [
    "import numpy as np"
   ]
  },
  {
   "cell_type": "code",
   "execution_count": 6,
   "metadata": {},
   "outputs": [
    {
     "data": {
      "text/plain": [
       "0.39491990331991006"
      ]
     },
     "execution_count": 6,
     "metadata": {},
     "output_type": "execute_result"
    }
   ],
   "source": [
    "np.random.randn()"
   ]
  },
  {
   "cell_type": "code",
   "execution_count": 10,
   "metadata": {},
   "outputs": [],
   "source": [
    "import pandas as pd\n",
    "from pandas import Series, DataFrame"
   ]
  },
  {
   "cell_type": "code",
   "execution_count": 15,
   "metadata": {},
   "outputs": [
    {
     "data": {
      "text/plain": [
       "0      4\n",
       "1      8\n",
       "2      3\n",
       "3      2\n",
       "4    231\n",
       "5      3\n",
       "6     45\n",
       "7     56\n",
       "8      8\n",
       "9      1\n",
       "dtype: int64"
      ]
     },
     "execution_count": 15,
     "metadata": {},
     "output_type": "execute_result"
    }
   ],
   "source": [
    "obj=pd.Series([4,8,3,2,231,3,45,56,8,1])\n",
    "obj"
   ]
  },
  {
   "cell_type": "code",
   "execution_count": 16,
   "metadata": {},
   "outputs": [
    {
     "data": {
      "text/plain": [
       "array([  4,   8,   3,   2, 231,   3,  45,  56,   8,   1], dtype=int64)"
      ]
     },
     "execution_count": 16,
     "metadata": {},
     "output_type": "execute_result"
    }
   ],
   "source": [
    "obj.values"
   ]
  },
  {
   "cell_type": "code",
   "execution_count": 17,
   "metadata": {},
   "outputs": [
    {
     "data": {
      "text/plain": [
       "RangeIndex(start=0, stop=10, step=1)"
      ]
     },
     "execution_count": 17,
     "metadata": {},
     "output_type": "execute_result"
    }
   ],
   "source": [
    "obj.index"
   ]
  },
  {
   "cell_type": "code",
   "execution_count": 22,
   "metadata": {},
   "outputs": [
    {
     "data": {
      "text/plain": [
       "16_april_19             Syllbus\n",
       "18_april_19       words meaning\n",
       "20_sep_19      question answers\n",
       "dtype: object"
      ]
     },
     "execution_count": 22,
     "metadata": {},
     "output_type": "execute_result"
    }
   ],
   "source": [
    "pd.Series(['Syllbus','words meaning','question answers'],index=['16_april_19','18_april_19','20_sep_19'])"
   ]
  },
  {
   "cell_type": "code",
   "execution_count": 23,
   "metadata": {},
   "outputs": [
    {
     "ename": "SyntaxError",
     "evalue": "invalid syntax (<ipython-input-23-654912874008>, line 1)",
     "output_type": "error",
     "traceback": [
      "\u001b[1;36m  File \u001b[1;32m\"<ipython-input-23-654912874008>\"\u001b[1;36m, line \u001b[1;32m1\u001b[0m\n\u001b[1;33m    what is atom? = atom is a somllest part of element\u001b[0m\n\u001b[1;37m                ^\u001b[0m\n\u001b[1;31mSyntaxError\u001b[0m\u001b[1;31m:\u001b[0m invalid syntax\n"
     ]
    }
   ],
   "source": [
    "what is atom? = atom is a somllest part of element  "
   ]
  },
  {
   "cell_type": "code",
   "execution_count": 25,
   "metadata": {},
   "outputs": [
    {
     "data": {
      "text/plain": [
       "0     5.459815e+01\n",
       "1     2.980958e+03\n",
       "2     2.008554e+01\n",
       "3     7.389056e+00\n",
       "4    2.099062e+100\n",
       "5     2.008554e+01\n",
       "6     3.493427e+19\n",
       "7     2.091659e+24\n",
       "8     2.980958e+03\n",
       "9     2.718282e+00\n",
       "dtype: float64"
      ]
     },
     "execution_count": 25,
     "metadata": {},
     "output_type": "execute_result"
    }
   ],
   "source": [
    "azhar=np.exp(obj)\n",
    "azhar"
   ]
  },
  {
   "cell_type": "code",
   "execution_count": 26,
   "metadata": {},
   "outputs": [
    {
     "name": "stdout",
     "output_type": "stream",
     "text": [
      "0     5.459815e+01\n",
      "1     2.980958e+03\n",
      "2     2.008554e+01\n",
      "3     7.389056e+00\n",
      "4    2.099062e+100\n",
      "5     2.008554e+01\n",
      "6     3.493427e+19\n",
      "7     2.091659e+24\n",
      "8     2.980958e+03\n",
      "9     2.718282e+00\n",
      "dtype: float64\n",
      "0      4\n",
      "1      8\n",
      "2      3\n",
      "3      2\n",
      "4    231\n",
      "5      3\n",
      "6     45\n",
      "7     56\n",
      "8      8\n",
      "9      1\n",
      "dtype: int64\n"
     ]
    }
   ],
   "source": [
    "print(azhar)\n",
    "print(obj)"
   ]
  },
  {
   "cell_type": "code",
   "execution_count": 27,
   "metadata": {},
   "outputs": [
    {
     "data": {
      "text/plain": [
       "True"
      ]
     },
     "execution_count": 27,
     "metadata": {},
     "output_type": "execute_result"
    }
   ],
   "source": [
    "6 in obj"
   ]
  },
  {
   "cell_type": "code",
   "execution_count": 28,
   "metadata": {},
   "outputs": [
    {
     "data": {
      "text/plain": [
       "False"
      ]
     },
     "execution_count": 28,
     "metadata": {},
     "output_type": "execute_result"
    }
   ],
   "source": [
    "13 in obj"
   ]
  },
  {
   "cell_type": "code",
   "execution_count": 48,
   "metadata": {},
   "outputs": [
    {
     "data": {
      "text/plain": [
       "apple      200\n",
       "banana      50\n",
       "orange      80\n",
       "juava       60\n",
       "stabory    250\n",
       "dtype: int64"
      ]
     },
     "execution_count": 48,
     "metadata": {},
     "output_type": "execute_result"
    }
   ],
   "source": [
    "fruite = {'apple':200,'banana':50,'orange':80,'juava':60,'stabory':250}\n",
    "pd.Series(fruite)"
   ]
  },
  {
   "cell_type": "code",
   "execution_count": 46,
   "metadata": {},
   "outputs": [
    {
     "data": {
      "text/plain": [
       "ginger    240\n",
       "carrot     30\n",
       "chili     120\n",
       "onion      60\n",
       "patato     45\n",
       "dtype: int64"
      ]
     },
     "execution_count": 46,
     "metadata": {},
     "output_type": "execute_result"
    }
   ],
   "source": [
    "vetetables = {'ginger':240,'carrot':30,'chili':120,'onion':60,'patato':45}\n",
    "pd.Series(vetetables)"
   ]
  },
  {
   "cell_type": "code",
   "execution_count": 41,
   "metadata": {},
   "outputs": [],
   "source": [
    "dryfruite ={'almond':1120,'akrot':500,'pashta':1400,'penut':480,'kaju':500}"
   ]
  },
  {
   "cell_type": "code",
   "execution_count": 42,
   "metadata": {},
   "outputs": [
    {
     "data": {
      "text/plain": [
       "{'fruite': {'apple': 200,\n",
       "  'banana': 50,\n",
       "  'orange': 80,\n",
       "  'juava': 60,\n",
       "  'stabory': 250},\n",
       " 'vetetables': {'ginger': 240,\n",
       "  'carrot': 30,\n",
       "  'chili': 120,\n",
       "  'onion': 60,\n",
       "  'patato': 45},\n",
       " 'dryfruite': {'almond': 1120,\n",
       "  'akrot': 500,\n",
       "  'pashta': 1400,\n",
       "  'penut': 480,\n",
       "  'kaju': 500}}"
      ]
     },
     "execution_count": 42,
     "metadata": {},
     "output_type": "execute_result"
    }
   ],
   "source": [
    "mart = {'fruite':fruite,'vetetables':vetetables,'dryfruite':dryfruite}\n",
    "mart"
   ]
  },
  {
   "cell_type": "code",
   "execution_count": 50,
   "metadata": {},
   "outputs": [
    {
     "data": {
      "text/html": [
       "<div>\n",
       "<style scoped>\n",
       "    .dataframe tbody tr th:only-of-type {\n",
       "        vertical-align: middle;\n",
       "    }\n",
       "\n",
       "    .dataframe tbody tr th {\n",
       "        vertical-align: top;\n",
       "    }\n",
       "\n",
       "    .dataframe thead th {\n",
       "        text-align: right;\n",
       "    }\n",
       "</style>\n",
       "<table border=\"1\" class=\"dataframe\">\n",
       "  <thead>\n",
       "    <tr style=\"text-align: right;\">\n",
       "      <th></th>\n",
       "      <th>fruite</th>\n",
       "      <th>vetetables</th>\n",
       "      <th>dryfruite</th>\n",
       "    </tr>\n",
       "  </thead>\n",
       "  <tbody>\n",
       "    <tr>\n",
       "      <td>apple</td>\n",
       "      <td>200.0</td>\n",
       "      <td>NaN</td>\n",
       "      <td>NaN</td>\n",
       "    </tr>\n",
       "    <tr>\n",
       "      <td>banana</td>\n",
       "      <td>50.0</td>\n",
       "      <td>NaN</td>\n",
       "      <td>NaN</td>\n",
       "    </tr>\n",
       "    <tr>\n",
       "      <td>orange</td>\n",
       "      <td>80.0</td>\n",
       "      <td>NaN</td>\n",
       "      <td>NaN</td>\n",
       "    </tr>\n",
       "    <tr>\n",
       "      <td>juava</td>\n",
       "      <td>60.0</td>\n",
       "      <td>NaN</td>\n",
       "      <td>NaN</td>\n",
       "    </tr>\n",
       "    <tr>\n",
       "      <td>stabory</td>\n",
       "      <td>250.0</td>\n",
       "      <td>NaN</td>\n",
       "      <td>NaN</td>\n",
       "    </tr>\n",
       "    <tr>\n",
       "      <td>ginger</td>\n",
       "      <td>NaN</td>\n",
       "      <td>240.0</td>\n",
       "      <td>NaN</td>\n",
       "    </tr>\n",
       "    <tr>\n",
       "      <td>carrot</td>\n",
       "      <td>NaN</td>\n",
       "      <td>30.0</td>\n",
       "      <td>NaN</td>\n",
       "    </tr>\n",
       "    <tr>\n",
       "      <td>chili</td>\n",
       "      <td>NaN</td>\n",
       "      <td>120.0</td>\n",
       "      <td>NaN</td>\n",
       "    </tr>\n",
       "    <tr>\n",
       "      <td>onion</td>\n",
       "      <td>NaN</td>\n",
       "      <td>60.0</td>\n",
       "      <td>NaN</td>\n",
       "    </tr>\n",
       "    <tr>\n",
       "      <td>patato</td>\n",
       "      <td>NaN</td>\n",
       "      <td>45.0</td>\n",
       "      <td>NaN</td>\n",
       "    </tr>\n",
       "    <tr>\n",
       "      <td>almond</td>\n",
       "      <td>NaN</td>\n",
       "      <td>NaN</td>\n",
       "      <td>1120.0</td>\n",
       "    </tr>\n",
       "    <tr>\n",
       "      <td>akrot</td>\n",
       "      <td>NaN</td>\n",
       "      <td>NaN</td>\n",
       "      <td>500.0</td>\n",
       "    </tr>\n",
       "    <tr>\n",
       "      <td>pashta</td>\n",
       "      <td>NaN</td>\n",
       "      <td>NaN</td>\n",
       "      <td>1400.0</td>\n",
       "    </tr>\n",
       "    <tr>\n",
       "      <td>penut</td>\n",
       "      <td>NaN</td>\n",
       "      <td>NaN</td>\n",
       "      <td>480.0</td>\n",
       "    </tr>\n",
       "    <tr>\n",
       "      <td>kaju</td>\n",
       "      <td>NaN</td>\n",
       "      <td>NaN</td>\n",
       "      <td>500.0</td>\n",
       "    </tr>\n",
       "  </tbody>\n",
       "</table>\n",
       "</div>"
      ],
      "text/plain": [
       "         fruite  vetetables  dryfruite\n",
       "apple     200.0         NaN        NaN\n",
       "banana     50.0         NaN        NaN\n",
       "orange     80.0         NaN        NaN\n",
       "juava      60.0         NaN        NaN\n",
       "stabory   250.0         NaN        NaN\n",
       "ginger      NaN       240.0        NaN\n",
       "carrot      NaN        30.0        NaN\n",
       "chili       NaN       120.0        NaN\n",
       "onion       NaN        60.0        NaN\n",
       "patato      NaN        45.0        NaN\n",
       "almond      NaN         NaN     1120.0\n",
       "akrot       NaN         NaN      500.0\n",
       "pashta      NaN         NaN     1400.0\n",
       "penut       NaN         NaN      480.0\n",
       "kaju        NaN         NaN      500.0"
      ]
     },
     "execution_count": 50,
     "metadata": {},
     "output_type": "execute_result"
    }
   ],
   "source": [
    "sp=pd.DataFrame(mart)\n",
    "sp"
   ]
  },
  {
   "cell_type": "code",
   "execution_count": 52,
   "metadata": {},
   "outputs": [
    {
     "data": {
      "text/html": [
       "<div>\n",
       "<style scoped>\n",
       "    .dataframe tbody tr th:only-of-type {\n",
       "        vertical-align: middle;\n",
       "    }\n",
       "\n",
       "    .dataframe tbody tr th {\n",
       "        vertical-align: top;\n",
       "    }\n",
       "\n",
       "    .dataframe thead th {\n",
       "        text-align: right;\n",
       "    }\n",
       "</style>\n",
       "<table border=\"1\" class=\"dataframe\">\n",
       "  <thead>\n",
       "    <tr style=\"text-align: right;\">\n",
       "      <th></th>\n",
       "      <th>apple</th>\n",
       "      <th>banana</th>\n",
       "      <th>orange</th>\n",
       "      <th>juava</th>\n",
       "      <th>stabory</th>\n",
       "      <th>ginger</th>\n",
       "      <th>carrot</th>\n",
       "      <th>chili</th>\n",
       "      <th>onion</th>\n",
       "      <th>patato</th>\n",
       "      <th>almond</th>\n",
       "      <th>akrot</th>\n",
       "      <th>pashta</th>\n",
       "      <th>penut</th>\n",
       "      <th>kaju</th>\n",
       "    </tr>\n",
       "  </thead>\n",
       "  <tbody>\n",
       "    <tr>\n",
       "      <td>fruite</td>\n",
       "      <td>200.0</td>\n",
       "      <td>50.0</td>\n",
       "      <td>80.0</td>\n",
       "      <td>60.0</td>\n",
       "      <td>250.0</td>\n",
       "      <td>NaN</td>\n",
       "      <td>NaN</td>\n",
       "      <td>NaN</td>\n",
       "      <td>NaN</td>\n",
       "      <td>NaN</td>\n",
       "      <td>NaN</td>\n",
       "      <td>NaN</td>\n",
       "      <td>NaN</td>\n",
       "      <td>NaN</td>\n",
       "      <td>NaN</td>\n",
       "    </tr>\n",
       "    <tr>\n",
       "      <td>vetetables</td>\n",
       "      <td>NaN</td>\n",
       "      <td>NaN</td>\n",
       "      <td>NaN</td>\n",
       "      <td>NaN</td>\n",
       "      <td>NaN</td>\n",
       "      <td>240.0</td>\n",
       "      <td>30.0</td>\n",
       "      <td>120.0</td>\n",
       "      <td>60.0</td>\n",
       "      <td>45.0</td>\n",
       "      <td>NaN</td>\n",
       "      <td>NaN</td>\n",
       "      <td>NaN</td>\n",
       "      <td>NaN</td>\n",
       "      <td>NaN</td>\n",
       "    </tr>\n",
       "    <tr>\n",
       "      <td>dryfruite</td>\n",
       "      <td>NaN</td>\n",
       "      <td>NaN</td>\n",
       "      <td>NaN</td>\n",
       "      <td>NaN</td>\n",
       "      <td>NaN</td>\n",
       "      <td>NaN</td>\n",
       "      <td>NaN</td>\n",
       "      <td>NaN</td>\n",
       "      <td>NaN</td>\n",
       "      <td>NaN</td>\n",
       "      <td>1120.0</td>\n",
       "      <td>500.0</td>\n",
       "      <td>1400.0</td>\n",
       "      <td>480.0</td>\n",
       "      <td>500.0</td>\n",
       "    </tr>\n",
       "  </tbody>\n",
       "</table>\n",
       "</div>"
      ],
      "text/plain": [
       "            apple  banana  orange  juava  stabory  ginger  carrot  ...  onion  patato  almond  akrot  pashta  penut   kaju\n",
       "fruite      200.0    50.0    80.0   60.0    250.0     NaN     NaN  ...    NaN     NaN     NaN    NaN     NaN    NaN    NaN\n",
       "vetetables    NaN     NaN     NaN    NaN      NaN   240.0    30.0  ...   60.0    45.0     NaN    NaN     NaN    NaN    NaN\n",
       "dryfruite     NaN     NaN     NaN    NaN      NaN     NaN     NaN  ...    NaN     NaN  1120.0  500.0  1400.0  480.0  500.0\n",
       "\n",
       "[3 rows x 15 columns]"
      ]
     },
     "execution_count": 52,
     "metadata": {},
     "output_type": "execute_result"
    }
   ],
   "source": [
    "sp.T"
   ]
  },
  {
   "cell_type": "code",
   "execution_count": 55,
   "metadata": {},
   "outputs": [
    {
     "data": {
      "text/plain": [
       "<bound method DataFrame.sum of          fruite  vetetables  dryfruite\n",
       "apple     200.0         NaN        NaN\n",
       "banana     50.0         NaN        NaN\n",
       "orange     80.0         NaN        NaN\n",
       "juava      60.0         NaN        NaN\n",
       "stabory   250.0         NaN        NaN\n",
       "ginger      NaN       240.0        NaN\n",
       "carrot      NaN        30.0        NaN\n",
       "chili       NaN       120.0        NaN\n",
       "onion       NaN        60.0        NaN\n",
       "patato      NaN        45.0        NaN\n",
       "almond      NaN         NaN     1120.0\n",
       "akrot       NaN         NaN      500.0\n",
       "pashta      NaN         NaN     1400.0\n",
       "penut       NaN         NaN      480.0\n",
       "kaju        NaN         NaN      500.0>"
      ]
     },
     "execution_count": 55,
     "metadata": {},
     "output_type": "execute_result"
    }
   ],
   "source": [
    "sp.sum"
   ]
  },
  {
   "cell_type": "code",
   "execution_count": 56,
   "metadata": {},
   "outputs": [
    {
     "data": {
      "text/plain": [
       "<bound method DataFrame.cumsum of          fruite  vetetables  dryfruite\n",
       "apple     200.0         NaN        NaN\n",
       "banana     50.0         NaN        NaN\n",
       "orange     80.0         NaN        NaN\n",
       "juava      60.0         NaN        NaN\n",
       "stabory   250.0         NaN        NaN\n",
       "ginger      NaN       240.0        NaN\n",
       "carrot      NaN        30.0        NaN\n",
       "chili       NaN       120.0        NaN\n",
       "onion       NaN        60.0        NaN\n",
       "patato      NaN        45.0        NaN\n",
       "almond      NaN         NaN     1120.0\n",
       "akrot       NaN         NaN      500.0\n",
       "pashta      NaN         NaN     1400.0\n",
       "penut       NaN         NaN      480.0\n",
       "kaju        NaN         NaN      500.0>"
      ]
     },
     "execution_count": 56,
     "metadata": {},
     "output_type": "execute_result"
    }
   ],
   "source": [
    "sp.cumsum"
   ]
  },
  {
   "cell_type": "code",
   "execution_count": null,
   "metadata": {},
   "outputs": [],
   "source": []
  }
 ],
 "metadata": {
  "kernelspec": {
   "display_name": "Python 3",
   "language": "python",
   "name": "python3"
  },
  "language_info": {
   "codemirror_mode": {
    "name": "ipython",
    "version": 3
   },
   "file_extension": ".py",
   "mimetype": "text/x-python",
   "name": "python",
   "nbconvert_exporter": "python",
   "pygments_lexer": "ipython3",
   "version": "3.7.4"
  }
 },
 "nbformat": 4,
 "nbformat_minor": 2
}
